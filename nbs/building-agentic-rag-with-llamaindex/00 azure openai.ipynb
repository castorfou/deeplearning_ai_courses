{
 "cells": [
  {
   "cell_type": "code",
   "execution_count": null,
   "metadata": {},
   "outputs": [
    {
     "data": {
      "text/plain": [
       "True"
      ]
     },
     "execution_count": null,
     "metadata": {},
     "output_type": "execute_result"
    }
   ],
   "source": [
    "import os\n",
    "from dotenv import load_dotenv\n",
    "\n",
    "load_dotenv()"
   ]
  },
  {
   "cell_type": "code",
   "execution_count": null,
   "metadata": {},
   "outputs": [
    {
     "name": "stdout",
     "output_type": "stream",
     "text": [
      "young girl named Lily who lived in a small village nestled between rolling hills and dense forests. Lily was known for her curiosity and adventurous spirit, always eager to explore the world beyond her village. One day, while wandering through the woods, she stumbled upon a hidden path that led to a mysterious, ancient tree with a door carved into its trunk. Intrigued, Lily pushed the door open and stepped inside, finding herself in a magical realm filled with talking animals, enchanted rivers, and glowing flowers. Little did she know, this enchanted world held secrets that would change her life forever.\n"
     ]
    }
   ],
   "source": [
    "from openai import AzureOpenAI\n",
    "\n",
    "client = AzureOpenAI(\n",
    "    azure_endpoint=os.environ[\"AZURE_ENDPOINT\"],\n",
    "    api_version=os.environ[\"AZURE_API_VERSION\"],\n",
    "    api_key=os.environ[\"AZURE_API_KEY\"],\n",
    ")\n",
    "\n",
    "\n",
    "def get_completion(prompt, model=\"gpt-4o\"):\n",
    "    messages = [{\"role\": \"user\", \"content\": prompt}]\n",
    "    completion = client.chat.completions.create(\n",
    "        model=model,\n",
    "        messages=messages,\n",
    "        temperature=0,\n",
    "    )\n",
    "    return completion.choices[0].message.content\n",
    "\n",
    "\n",
    "response = get_completion(\"Once upon a time, there was a\")\n",
    "\n",
    "print(response)"
   ]
  },
  {
   "cell_type": "code",
   "execution_count": null,
   "metadata": {},
   "outputs": [],
   "source": []
  }
 ],
 "metadata": {
  "kernelspec": {
   "display_name": "python3",
   "language": "python",
   "name": "python3"
  }
 },
 "nbformat": 4,
 "nbformat_minor": 2
}
